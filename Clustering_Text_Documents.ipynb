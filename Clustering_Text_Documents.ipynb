{
 "cells": [
  {
   "cell_type": "code",
   "execution_count": 8,
   "metadata": {},
   "outputs": [],
   "source": [
    "import requests\n",
    "import pandas as pd\n",
    "\n",
    "# Define your API key\n",
    "api_key = '121862746eb8412db0c1076fb1fd4203'\n",
    "\n",
    "# Define the endpoint and parameters\n",
    "url = 'https://newsapi.org/v2/top-headlines'\n",
    "params = {\n",
    "    'country': 'us',          # Country code (e.g., 'us', 'in')\n",
    "    # 'category': 'technology',  # News category (e.g., 'business', 'sports', 'technology')\n",
    "    'pageSize': 100,\n",
    "    'apiKey': api_key          # Your API key\n",
    "}\n",
    "\n",
    "# Make the request\n",
    "response = requests.get(url, params=params)\n",
    "\n",
    "# Check if the request was successful\n",
    "if response.status_code == 200:\n",
    "    data = response.json()  # Parse the JSON response\n",
    "    articles = data['articles']\n",
    "\n",
    "    # Convert the articles into a DataFrame\n",
    "    df = pd.DataFrame(articles)\n",
    "\n",
    "    # Select relevant columns (customize as needed)\n",
    "    df = df[['source',  'title', 'description', 'url', 'publishedAt']]\n",
    "\n",
    "    # Expand the 'source' column to get the source name\n",
    "    df['source'] = df['source'].apply(lambda x: x['name'])\n",
    "    df = df[df['source'] == 'BBC News']\n",
    "    df.to_excel('news.xlsx', index=False)\n",
    "\n",
    "else:\n",
    "    print(f\"Error: {response.status_code}\")"
   ]
  },
  {
   "cell_type": "code",
   "execution_count": 15,
   "metadata": {},
   "outputs": [
    {
     "data": {
      "text/plain": [
       "14    https://www.bbc.com/news/articles/cr54d3qd5r7o\n",
       "30    https://www.bbc.com/news/articles/c89ly20vvgvo\n",
       "33    https://www.bbc.com/news/articles/ckg92528y51o\n",
       "34      https://www.bbc.com/news/videos/ckgnzr1dx73o\n",
       "Name: url, dtype: object"
      ]
     },
     "execution_count": 15,
     "metadata": {},
     "output_type": "execute_result"
    }
   ],
   "source": [
    "df['url']"
   ]
  },
  {
   "cell_type": "code",
   "execution_count": null,
   "metadata": {},
   "outputs": [],
   "source": []
  }
 ],
 "metadata": {
  "kernelspec": {
   "display_name": ".venv",
   "language": "python",
   "name": "python3"
  },
  "language_info": {
   "codemirror_mode": {
    "name": "ipython",
    "version": 3
   },
   "file_extension": ".py",
   "mimetype": "text/x-python",
   "name": "python",
   "nbconvert_exporter": "python",
   "pygments_lexer": "ipython3",
   "version": "3.12.6"
  }
 },
 "nbformat": 4,
 "nbformat_minor": 2
}
